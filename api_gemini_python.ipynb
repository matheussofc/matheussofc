{
  "nbformat": 4,
  "nbformat_minor": 0,
  "metadata": {
    "colab": {
      "provenance": [],
      "authorship_tag": "ABX9TyPeJzdgeIoLXCLlvRPvG06r",
      "include_colab_link": true
    },
    "kernelspec": {
      "name": "python3",
      "display_name": "Python 3"
    },
    "language_info": {
      "name": "python"
    }
  },
  "cells": [
    {
      "cell_type": "markdown",
      "metadata": {
        "id": "view-in-github",
        "colab_type": "text"
      },
      "source": [
        "<a href=\"https://colab.research.google.com/github/matheussofc/matheussofc/blob/main/api_gemini_python.ipynb\" target=\"_parent\"><img src=\"https://colab.research.google.com/assets/colab-badge.svg\" alt=\"Open In Colab\"/></a>"
      ]
    },
    {
      "cell_type": "markdown",
      "source": [
        "Bibliotecas\n"
      ],
      "metadata": {
        "id": "_gv70npk8b6U"
      }
    },
    {
      "cell_type": "code",
      "execution_count": 1,
      "metadata": {
        "id": "lLNzEPDl70Au"
      },
      "outputs": [],
      "source": [
        "!pip install -q -U google-generativeai"
      ]
    },
    {
      "cell_type": "code",
      "source": [
        "import google.generativeai as genai"
      ],
      "metadata": {
        "id": "MgyhlhoKFcU-"
      },
      "execution_count": 2,
      "outputs": []
    },
    {
      "cell_type": "code",
      "source": [
        "API_KEY = 'SUA_API'"
      ],
      "metadata": {
        "id": "MKggA8cd8sCA"
      },
      "execution_count": 3,
      "outputs": []
    },
    {
      "cell_type": "code",
      "source": [
        "genai.configure(api_key=API_KEY)"
      ],
      "metadata": {
        "id": "yB3xqapr9MD8"
      },
      "execution_count": 4,
      "outputs": []
    },
    {
      "cell_type": "code",
      "source": [
        "model = genai.GenerativeModel('gemini-pro')\n",
        "chat = model.start_chat(history=[])\n",
        "chat"
      ],
      "metadata": {
        "colab": {
          "base_uri": "https://localhost:8080/"
        },
        "id": "vg0PYl63-Clj",
        "outputId": "a5d25fd7-6834-4289-a355-19d4ac4b4953"
      },
      "execution_count": 5,
      "outputs": [
        {
          "output_type": "execute_result",
          "data": {
            "text/plain": [
              "<google.generativeai.generative_models.ChatSession at 0x7e71c2092380>"
            ]
          },
          "metadata": {},
          "execution_count": 5
        }
      ]
    },
    {
      "cell_type": "code",
      "source": [
        "bem_vindo = \"# Olá, seja bem-vindo. Como posso lhe ajudar? #\"\n",
        "print(len(bem_vindo)* \"#\")\n",
        "print(bem_vindo)\n",
        "print(len(bem_vindo)* \"#\")\n",
        "print(\"### Digite 'sair' para encerrar ###\")\n",
        "print(\"\")\n",
        "\n",
        "while True:\n",
        "  texto = input(\"Escreva sua mensagem: \")\n",
        "\n",
        "  if texto == \"sair\":\n",
        "    break\n",
        "\n",
        "  response = chat.send_message(texto)\n",
        "  print(\"Gemini:\", response.text, \"\\n\")\n",
        "\n",
        "print(\"Encerrando Chat\")\n"
      ],
      "metadata": {
        "colab": {
          "base_uri": "https://localhost:8080/"
        },
        "id": "tE5pcWZN-LqX",
        "outputId": "a22291b0-b41e-40f6-da55-2675e305d1bc"
      },
      "execution_count": null,
      "outputs": [
        {
          "output_type": "stream",
          "name": "stdout",
          "text": [
            "###############################################\n",
            "# Olá, seja bem-vindo. Como posso lhe ajudar? #\n",
            "###############################################\n",
            "### Digite 'sair' para encerrar ###\n",
            "\n"
          ]
        }
      ]
    },
    {
      "cell_type": "code",
      "source": [],
      "metadata": {
        "id": "68MrVEnDAKmX"
      },
      "execution_count": null,
      "outputs": []
    }
  ]
}