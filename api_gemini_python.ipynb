{
  "nbformat": 4,
  "nbformat_minor": 0,
  "metadata": {
    "colab": {
      "provenance": [],
      "authorship_tag": "ABX9TyPeJzdgeIoLXCLlvRPvG06r",
      "include_colab_link": true
    },
    "kernelspec": {
      "name": "python3",
      "display_name": "Python 3"
    },
    "language_info": {
      "name": "python"
    }
  },
  "cells": [
    {
      "cell_type": "markdown",
      "metadata": {
        "id": "view-in-github",
        "colab_type": "text"
      },
      "source": [
        "<a href=\"https://colab.research.google.com/github/matheussofc/matheussofc/blob/main/api_gemini_python.ipynb\" target=\"_parent\"><img src=\"https://colab.research.google.com/assets/colab-badge.svg\" alt=\"Open In Colab\"/></a>"
      ]
    },
    {
      "cell_type": "markdown",
      "source": [
        "Bibliotecas\n"
      ],
      "metadata": {
        "id": "_gv70npk8b6U"
      }
    },
    {
      "cell_type": "code",
      "execution_count": 6,
      "metadata": {
        "id": "lLNzEPDl70Au"
      },
      "outputs": [],
      "source": [
        "!pip install -q -U google-generativeai"
      ]
    },
    {
      "cell_type": "code",
      "source": [
        "import google.generativeai as genai"
      ],
      "metadata": {
        "id": "MgyhlhoKFcU-"
      },
      "execution_count": 21,
      "outputs": []
    },
    {
      "cell_type": "code",
      "source": [
        "API_KEY = 'SUA_API'"
      ],
      "metadata": {
        "id": "MKggA8cd8sCA"
      },
      "execution_count": 22,
      "outputs": []
    },
    {
      "cell_type": "code",
      "source": [
        "genai.configure(api_key=API_KEY)"
      ],
      "metadata": {
        "id": "yB3xqapr9MD8"
      },
      "execution_count": 23,
      "outputs": []
    },
    {
      "cell_type": "code",
      "source": [
        "model = genai.GenerativeModel('gemini-pro')\n",
        "chat = model.start_chat(history=[])\n",
        "chat"
      ],
      "metadata": {
        "colab": {
          "base_uri": "https://localhost:8080/"
        },
        "id": "vg0PYl63-Clj",
        "outputId": "16303b89-2912-4946-e0eb-4388d5357af8"
      },
      "execution_count": 24,
      "outputs": [
        {
          "output_type": "execute_result",
          "data": {
            "text/plain": [
              "<google.generativeai.generative_models.ChatSession at 0x7f14f18a33d0>"
            ]
          },
          "metadata": {},
          "execution_count": 24
        }
      ]
    },
    {
      "cell_type": "code",
      "source": [
        "bem_vindo = \"# Olá, seja bem-vindo. Como posso lhe ajudar? #\"\n",
        "print(len(bem_vindo)* \"#\")\n",
        "print(bem_vindo)\n",
        "print(len(bem_vindo)* \"#\")\n",
        "print(\"### Digite 'sair' para encerrar ###\")\n",
        "print(\"\")\n",
        "\n",
        "while True:\n",
        "  texto = input(\"Escreva sua mensagem: \")\n",
        "\n",
        "  if texto == \"sair\":\n",
        "    break\n",
        "\n",
        "  response = chat.send_message(texto)\n",
        "  print(\"Gemini:\", response.text, \"\\n\")\n",
        "\n",
        "print(\"Encerrando Chat\")\n"
      ],
      "metadata": {
        "colab": {
          "base_uri": "https://localhost:8080/",
          "height": 1000
        },
        "id": "tE5pcWZN-LqX",
        "outputId": "ce5bc975-a680-40fe-c535-efdcbc062aa4"
      },
      "execution_count": 25,
      "outputs": [
        {
          "output_type": "stream",
          "name": "stdout",
          "text": [
            "###############################################\n",
            "# Olá, seja bem-vindo. Como posso lhe ajudar? #\n",
            "###############################################\n",
            "### Digite 'sair' para encerrar ###\n",
            "\n",
            "Escreva sua mensagem: teste\n",
            "Gemini: Claro, aqui está um teste de múltipla escolha com 10 perguntas sobre conhecimentos básicos:\n",
            "\n",
            "1.Qual é a capital do Brasil?\n",
            "(a) Brasília\n",
            "(b) São Paulo\n",
            "(c) Rio de Janeiro\n",
            "\n",
            "2. Qual é o maior país do mundo em área territorial?\n",
            "(a) Canadá\n",
            "(b) Rússia\n",
            "(c) China\n",
            "\n",
            "3. Qual é o maior rio do mundo em comprimento?\n",
            "(a) Nilo\n",
            "(b) Amazonas\n",
            "(c) Yangtzé\n",
            "\n",
            "4. Qual é o maior oceano do mundo?\n",
            "(a) Pacífico\n",
            "(b) Atlântico\n",
            "(c) Índico\n",
            "\n",
            "5. Qual é o pico mais alto do mundo?\n",
            "(a) Monte Everest\n",
            "(b) K2\n",
            "(c) Kanchenjunga\n",
            "\n",
            "6. Qual é o maior deserto do mundo?\n",
            "(a) Saara\n",
            "(b) Antártica\n",
            "(c) Gobi\n",
            "\n",
            "7. Qual é a maior floresta do mundo?\n",
            "(a) Amazônia\n",
            "(b) Sibéria\n",
            "(c) Congo\n",
            "\n",
            "8. Qual é a maior população do mundo?\n",
            "(a) China\n",
            "(b) Índia\n",
            "(c) Estados Unidos\n",
            "\n",
            "9. Qual é a maior cidade do mundo?\n",
            "(a) Tóquio\n",
            "(b) Xangai\n",
            "(c) Nova York\n",
            "\n",
            "10. Qual é o maior lago do mundo?\n",
            "(a) Mar Cáspio\n",
            "(b) Lago Superior\n",
            "(c) Lago Baikal \n",
            "\n",
            "Escreva sua mensagem: sair\n",
            "Encerrando Chat\n"
          ]
        }
      ]
    },
    {
      "cell_type": "code",
      "source": [],
      "metadata": {
        "id": "68MrVEnDAKmX"
      },
      "execution_count": null,
      "outputs": []
    }
  ]
}